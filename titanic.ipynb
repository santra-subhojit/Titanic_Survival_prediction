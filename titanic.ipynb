{
 "cells": [
  {
   "cell_type": "code",
   "execution_count": 333,
   "id": "ed165320",
   "metadata": {
    "ExecuteTime": {
     "end_time": "2021-08-12T19:32:51.547766Z",
     "start_time": "2021-08-12T19:32:51.536501Z"
    }
   },
   "outputs": [],
   "source": [
    "import numpy as np\n",
    "import pandas as pd\n",
    "import seaborn as sns"
   ]
  },
  {
   "cell_type": "code",
   "execution_count": 334,
   "id": "5bf3490c",
   "metadata": {
    "ExecuteTime": {
     "end_time": "2021-08-12T19:32:52.820757Z",
     "start_time": "2021-08-12T19:32:52.758249Z"
    }
   },
   "outputs": [],
   "source": [
    "## Load Data\n",
    "train=pd.read_csv(r'train.csv')\n",
    "test=pd.read_csv(r'test.csv')"
   ]
  },
  {
   "cell_type": "markdown",
   "id": "42abcbc5",
   "metadata": {},
   "source": [
    "## Data Discriptions\n",
    "- Survived: \t0 = No, 1 = Yes  \n",
    "- pclass: \tTicket class\t1 = 1st, 2 = 2nd, 3 = 3rd  \t\n",
    "- sibsp:\t# of siblings / spouses aboard the Titanic  \t\n",
    "- parch:\t# of parents / children aboard the Titanic  \t\n",
    "- ticket:\tTicket number\t\n",
    "- cabin:\tCabin number\t\n",
    "- embarked:\tPort of Embarkation\tC = Cherbourg, Q = Queenstown, S = Southampton  "
   ]
  },
  {
   "cell_type": "code",
   "execution_count": 335,
   "id": "ec238969",
   "metadata": {
    "ExecuteTime": {
     "end_time": "2021-08-12T19:32:54.004805Z",
     "start_time": "2021-08-12T19:32:53.978399Z"
    }
   },
   "outputs": [
    {
     "data": {
      "text/plain": [
       "(891, 12)"
      ]
     },
     "execution_count": 335,
     "metadata": {},
     "output_type": "execute_result"
    }
   ],
   "source": [
    "train.head()\n",
    "train.columns\n",
    "train.shape"
   ]
  },
  {
   "cell_type": "markdown",
   "id": "8661e678",
   "metadata": {},
   "source": [
    "### PassengerId"
   ]
  },
  {
   "cell_type": "code",
   "execution_count": 313,
   "id": "a28affc4",
   "metadata": {
    "ExecuteTime": {
     "end_time": "2021-08-12T19:32:16.804093Z",
     "start_time": "2021-08-12T19:32:16.763695Z"
    }
   },
   "outputs": [],
   "source": [
    "train[\"PassengerId\"].head()\n",
    "train[\"PassengerId\"].shape\n",
    "\n",
    "train.drop([\"PassengerId\"],axis=1,inplace=True)\n",
    "test.drop([\"PassengerId\"],axis=1,inplace=True)"
   ]
  },
  {
   "cell_type": "markdown",
   "id": "04faec8b",
   "metadata": {},
   "source": [
    "### Pclass"
   ]
  },
  {
   "cell_type": "code",
   "execution_count": 336,
   "id": "74f3098b",
   "metadata": {
    "ExecuteTime": {
     "end_time": "2021-08-12T19:32:57.753816Z",
     "start_time": "2021-08-12T19:32:57.716472Z"
    }
   },
   "outputs": [
    {
     "data": {
      "text/plain": [
       "3    218\n",
       "1    107\n",
       "2     93\n",
       "Name: Pclass, dtype: int64"
      ]
     },
     "execution_count": 336,
     "metadata": {},
     "output_type": "execute_result"
    }
   ],
   "source": [
    "train[\"Pclass\"].head()    \n",
    "train[\"Pclass\"].dtype           ## int & var-type= ordinal category\n",
    "train[\"Pclass\"].isna().sum()    # No null value\n",
    "train[\"Pclass\"].isna().sum()    # No null value\n",
    "\n",
    "train[\"Pclass\"].value_counts()  # 1:216; 2:184; 3:491\n",
    "test[\"Pclass\"].value_counts()  # 1:107; 2:93; 3:218"
   ]
  },
  {
   "cell_type": "code",
   "execution_count": 337,
   "id": "3443a77c",
   "metadata": {
    "ExecuteTime": {
     "end_time": "2021-08-12T19:33:00.648487Z",
     "start_time": "2021-08-12T19:33:00.048741Z"
    }
   },
   "outputs": [
    {
     "name": "stdout",
     "output_type": "stream",
     "text": [
      "Probably independent(H1)\n"
     ]
    },
    {
     "data": {
      "text/plain": [
       "(-0.3235331843940954, 3.932785644652632e-24)"
      ]
     },
     "execution_count": 337,
     "metadata": {},
     "output_type": "execute_result"
    },
    {
     "data": {
      "image/png": "[encoded data removed]",
      "text/plain": [
       "<Figure size 432x288 with 1 Axes>"
      ]
     },
     "metadata": {
      "needs_background": "light"
     },
     "output_type": "display_data"
    }
   ],
   "source": [
    "## visualization\n",
    "sns.countplot(x=train[\"Pclass\"],hue=train[\"Survived\"],data=train)\n",
    "\n",
    "pd.crosstab(train[\"Survived\"],train[\"Pclass\"])\n",
    "\n",
    "# Survival Rates with in each class: class1=.63; class2=.47; class3=.24\n",
    "# Survival Rates from total survived(342): class1=.39; class2=.25; class3=.34\n",
    "\n",
    "## Correlation: As both features are ordinal\n",
    "import scipy\n",
    "\n",
    "cor,p_value=scipy.stats.kendalltau(train[\"Pclass\"],train[\"Survived\"])  # cor: Kendall's tau   & p_val: p-value\n",
    "if p_value > 0.05:\n",
    "    print('Probably independent(H0)')\n",
    "else:\n",
    "    print('Probably independent(H1)')\n",
    "cor,p_value\n"
   ]
  },
  {
   "cell_type": "code",
   "execution_count": 338,
   "id": "3d23971d",
   "metadata": {
    "ExecuteTime": {
     "end_time": "2021-08-12T19:33:04.171220Z",
     "start_time": "2021-08-12T19:33:04.151836Z"
    }
   },
   "outputs": [],
   "source": [
    "# Summary\n",
    "# Shows class-3 people tends to less survival chances\n",
    "# Shows class-1 people tends to more survival chances"
   ]
  },
  {
   "cell_type": "markdown",
   "id": "3e5abf13",
   "metadata": {},
   "source": [
    "### Name"
   ]
  },
  {
   "cell_type": "code",
   "execution_count": 339,
   "id": "2e59c547",
   "metadata": {
    "ExecuteTime": {
     "end_time": "2021-08-12T19:33:07.895882Z",
     "start_time": "2021-08-12T19:33:07.873129Z"
    }
   },
   "outputs": [],
   "source": [
    "train.drop([\"Name\"],axis=1,inplace=True)\n",
    "test.drop([\"Name\"],axis=1,inplace=True)"
   ]
  },
  {
   "cell_type": "code",
   "execution_count": 340,
   "id": "2dc6fac9",
   "metadata": {
    "ExecuteTime": {
     "end_time": "2021-08-12T19:33:09.136526Z",
     "start_time": "2021-08-12T19:33:09.095339Z"
    }
   },
   "outputs": [
    {
     "data": {
      "text/html": [
       "<div>\n",
       "<style scoped>\n",
       "    .dataframe tbody tr th:only-of-type {\n",
       "        vertical-align: middle;\n",
       "    }\n",
       "\n",
       "    .dataframe tbody tr th {\n",
       "        vertical-align: top;\n",
       "    }\n",
       "\n",
       "    .dataframe thead th {\n",
       "        text-align: right;\n",
       "    }\n",
       "</style>\n",
       "<table border=\"1\" class=\"dataframe\">\n",
       "  <thead>\n",
       "    <tr style=\"text-align: right;\">\n",
       "      <th></th>\n",
       "      <th>PassengerId</th>\n",
       "      <th>Survived</th>\n",
       "      <th>Pclass</th>\n",
       "      <th>Sex</th>\n",
       "      <th>Age</th>\n",
       "      <th>SibSp</th>\n",
       "      <th>Parch</th>\n",
       "      <th>Ticket</th>\n",
       "      <th>Fare</th>\n",
       "      <th>Cabin</th>\n",
       "      <th>Embarked</th>\n",
       "    </tr>\n",
       "  </thead>\n",
       "  <tbody>\n",
       "    <tr>\n",
       "      <th>0</th>\n",
       "      <td>1</td>\n",
       "      <td>0</td>\n",
       "      <td>3</td>\n",
       "      <td>male</td>\n",
       "      <td>22.0</td>\n",
       "      <td>1</td>\n",
       "      <td>0</td>\n",
       "      <td>A/5 21171</td>\n",
       "      <td>7.2500</td>\n",
       "      <td>NaN</td>\n",
       "      <td>S</td>\n",
       "    </tr>\n",
       "    <tr>\n",
       "      <th>1</th>\n",
       "      <td>2</td>\n",
       "      <td>1</td>\n",
       "      <td>1</td>\n",
       "      <td>female</td>\n",
       "      <td>38.0</td>\n",
       "      <td>1</td>\n",
       "      <td>0</td>\n",
       "      <td>PC 17599</td>\n",
       "      <td>71.2833</td>\n",
       "      <td>C85</td>\n",
       "      <td>C</td>\n",
       "    </tr>\n",
       "    <tr>\n",
       "      <th>2</th>\n",
       "      <td>3</td>\n",
       "      <td>1</td>\n",
       "      <td>3</td>\n",
       "      <td>female</td>\n",
       "      <td>26.0</td>\n",
       "      <td>0</td>\n",
       "      <td>0</td>\n",
       "      <td>STON/O2. 3101282</td>\n",
       "      <td>7.9250</td>\n",
       "      <td>NaN</td>\n",
       "      <td>S</td>\n",
       "    </tr>\n",
       "    <tr>\n",
       "      <th>3</th>\n",
       "      <td>4</td>\n",
       "      <td>1</td>\n",
       "      <td>1</td>\n",
       "      <td>female</td>\n",
       "      <td>35.0</td>\n",
       "      <td>1</td>\n",
       "      <td>0</td>\n",
       "      <td>113803</td>\n",
       "      <td>53.1000</td>\n",
       "      <td>C123</td>\n",
       "      <td>S</td>\n",
       "    </tr>\n",
       "    <tr>\n",
       "      <th>4</th>\n",
       "      <td>5</td>\n",
       "      <td>0</td>\n",
       "      <td>3</td>\n",
       "      <td>male</td>\n",
       "      <td>35.0</td>\n",
       "      <td>0</td>\n",
       "      <td>0</td>\n",
       "      <td>373450</td>\n",
       "      <td>8.0500</td>\n",
       "      <td>NaN</td>\n",
       "      <td>S</td>\n",
       "    </tr>\n",
       "  </tbody>\n",
       "</table>\n",
       "</div>"
      ],
      "text/plain": [
       "   PassengerId  Survived  Pclass     Sex   Age  SibSp  Parch  \\\n",
       "0            1         0       3    male  22.0      1      0   \n",
       "1            2         1       1  female  38.0      1      0   \n",
       "2            3         1       3  female  26.0      0      0   \n",
       "3            4         1       1  female  35.0      1      0   \n",
       "4            5         0       3    male  35.0      0      0   \n",
       "\n",
       "             Ticket     Fare Cabin Embarked  \n",
       "0         A/5 21171   7.2500   NaN        S  \n",
       "1          PC 17599  71.2833   C85        C  \n",
       "2  STON/O2. 3101282   7.9250   NaN        S  \n",
       "3            113803  53.1000  C123        S  \n",
       "4            373450   8.0500   NaN        S  "
      ]
     },
     "execution_count": 340,
     "metadata": {},
     "output_type": "execute_result"
    }
   ],
   "source": [
    "train.head()"
   ]
  },
  {
   "cell_type": "markdown",
   "id": "e01397c4",
   "metadata": {},
   "source": [
    "### Sex:"
   ]
  },
  {
   "cell_type": "code",
   "execution_count": 341,
   "id": "f9f45eff",
   "metadata": {
    "ExecuteTime": {
     "end_time": "2021-08-12T19:33:11.696549Z",
     "start_time": "2021-08-12T19:33:11.560780Z"
    }
   },
   "outputs": [
    {
     "data": {
      "text/html": [
       "<div>\n",
       "<style scoped>\n",
       "    .dataframe tbody tr th:only-of-type {\n",
       "        vertical-align: middle;\n",
       "    }\n",
       "\n",
       "    .dataframe tbody tr th {\n",
       "        vertical-align: top;\n",
       "    }\n",
       "\n",
       "    .dataframe thead th {\n",
       "        text-align: right;\n",
       "    }\n",
       "</style>\n",
       "<table border=\"1\" class=\"dataframe\">\n",
       "  <thead>\n",
       "    <tr style=\"text-align: right;\">\n",
       "      <th></th>\n",
       "      <th>PassengerId</th>\n",
       "      <th>Pclass</th>\n",
       "      <th>Sex</th>\n",
       "      <th>Age</th>\n",
       "      <th>SibSp</th>\n",
       "      <th>Parch</th>\n",
       "      <th>Ticket</th>\n",
       "      <th>Fare</th>\n",
       "      <th>Cabin</th>\n",
       "      <th>Embarked</th>\n",
       "    </tr>\n",
       "  </thead>\n",
       "  <tbody>\n",
       "    <tr>\n",
       "      <th>0</th>\n",
       "      <td>892</td>\n",
       "      <td>3</td>\n",
       "      <td>0</td>\n",
       "      <td>34.5</td>\n",
       "      <td>0</td>\n",
       "      <td>0</td>\n",
       "      <td>330911</td>\n",
       "      <td>7.8292</td>\n",
       "      <td>NaN</td>\n",
       "      <td>Q</td>\n",
       "    </tr>\n",
       "    <tr>\n",
       "      <th>1</th>\n",
       "      <td>893</td>\n",
       "      <td>3</td>\n",
       "      <td>1</td>\n",
       "      <td>47.0</td>\n",
       "      <td>1</td>\n",
       "      <td>0</td>\n",
       "      <td>363272</td>\n",
       "      <td>7.0000</td>\n",
       "      <td>NaN</td>\n",
       "      <td>S</td>\n",
       "    </tr>\n",
       "    <tr>\n",
       "      <th>2</th>\n",
       "      <td>894</td>\n",
       "      <td>2</td>\n",
       "      <td>0</td>\n",
       "      <td>62.0</td>\n",
       "      <td>0</td>\n",
       "      <td>0</td>\n",
       "      <td>240276</td>\n",
       "      <td>9.6875</td>\n",
       "      <td>NaN</td>\n",
       "      <td>Q</td>\n",
       "    </tr>\n",
       "    <tr>\n",
       "      <th>3</th>\n",
       "      <td>895</td>\n",
       "      <td>3</td>\n",
       "      <td>0</td>\n",
       "      <td>27.0</td>\n",
       "      <td>0</td>\n",
       "      <td>0</td>\n",
       "      <td>315154</td>\n",
       "      <td>8.6625</td>\n",
       "      <td>NaN</td>\n",
       "      <td>S</td>\n",
       "    </tr>\n",
       "    <tr>\n",
       "      <th>4</th>\n",
       "      <td>896</td>\n",
       "      <td>3</td>\n",
       "      <td>1</td>\n",
       "      <td>22.0</td>\n",
       "      <td>1</td>\n",
       "      <td>1</td>\n",
       "      <td>3101298</td>\n",
       "      <td>12.2875</td>\n",
       "      <td>NaN</td>\n",
       "      <td>S</td>\n",
       "    </tr>\n",
       "    <tr>\n",
       "      <th>...</th>\n",
       "      <td>...</td>\n",
       "      <td>...</td>\n",
       "      <td>...</td>\n",
       "      <td>...</td>\n",
       "      <td>...</td>\n",
       "      <td>...</td>\n",
       "      <td>...</td>\n",
       "      <td>...</td>\n",
       "      <td>...</td>\n",
       "      <td>...</td>\n",
       "    </tr>\n",
       "    <tr>\n",
       "      <th>413</th>\n",
       "      <td>1305</td>\n",
       "      <td>3</td>\n",
       "      <td>0</td>\n",
       "      <td>NaN</td>\n",
       "      <td>0</td>\n",
       "      <td>0</td>\n",
       "      <td>A.5. 3236</td>\n",
       "      <td>8.0500</td>\n",
       "      <td>NaN</td>\n",
       "      <td>S</td>\n",
       "    </tr>\n",
       "    <tr>\n",
       "      <th>414</th>\n",
       "      <td>1306</td>\n",
       "      <td>1</td>\n",
       "      <td>1</td>\n",
       "      <td>39.0</td>\n",
       "      <td>0</td>\n",
       "      <td>0</td>\n",
       "      <td>PC 17758</td>\n",
       "      <td>108.9000</td>\n",
       "      <td>C105</td>\n",
       "      <td>C</td>\n",
       "    </tr>\n",
       "    <tr>\n",
       "      <th>415</th>\n",
       "      <td>1307</td>\n",
       "      <td>3</td>\n",
       "      <td>0</td>\n",
       "      <td>38.5</td>\n",
       "      <td>0</td>\n",
       "      <td>0</td>\n",
       "      <td>SOTON/O.Q. 3101262</td>\n",
       "      <td>7.2500</td>\n",
       "      <td>NaN</td>\n",
       "      <td>S</td>\n",
       "    </tr>\n",
       "    <tr>\n",
       "      <th>416</th>\n",
       "      <td>1308</td>\n",
       "      <td>3</td>\n",
       "      <td>0</td>\n",
       "      <td>NaN</td>\n",
       "      <td>0</td>\n",
       "      <td>0</td>\n",
       "      <td>359309</td>\n",
       "      <td>8.0500</td>\n",
       "      <td>NaN</td>\n",
       "      <td>S</td>\n",
       "    </tr>\n",
       "    <tr>\n",
       "      <th>417</th>\n",
       "      <td>1309</td>\n",
       "      <td>3</td>\n",
       "      <td>0</td>\n",
       "      <td>NaN</td>\n",
       "      <td>1</td>\n",
       "      <td>1</td>\n",
       "      <td>2668</td>\n",
       "      <td>22.3583</td>\n",
       "      <td>NaN</td>\n",
       "      <td>C</td>\n",
       "    </tr>\n",
       "  </tbody>\n",
       "</table>\n",
       "<p>418 rows × 10 columns</p>\n",
       "</div>"
      ],
      "text/plain": [
       "     PassengerId  Pclass  Sex   Age  SibSp  Parch              Ticket  \\\n",
       "0            892       3    0  34.5      0      0              330911   \n",
       "1            893       3    1  47.0      1      0              363272   \n",
       "2            894       2    0  62.0      0      0              240276   \n",
       "3            895       3    0  27.0      0      0              315154   \n",
       "4            896       3    1  22.0      1      1             3101298   \n",
       "..           ...     ...  ...   ...    ...    ...                 ...   \n",
       "413         1305       3    0   NaN      0      0           A.5. 3236   \n",
       "414         1306       1    1  39.0      0      0            PC 17758   \n",
       "415         1307       3    0  38.5      0      0  SOTON/O.Q. 3101262   \n",
       "416         1308       3    0   NaN      0      0              359309   \n",
       "417         1309       3    0   NaN      1      1                2668   \n",
       "\n",
       "         Fare Cabin Embarked  \n",
       "0      7.8292   NaN        Q  \n",
       "1      7.0000   NaN        S  \n",
       "2      9.6875   NaN        Q  \n",
       "3      8.6625   NaN        S  \n",
       "4     12.2875   NaN        S  \n",
       "..        ...   ...      ...  \n",
       "413    8.0500   NaN        S  \n",
       "414  108.9000  C105        C  \n",
       "415    7.2500   NaN        S  \n",
       "416    8.0500   NaN        S  \n",
       "417   22.3583   NaN        C  \n",
       "\n",
       "[418 rows x 10 columns]"
      ]
     },
     "execution_count": 341,
     "metadata": {},
     "output_type": "execute_result"
    }
   ],
   "source": [
    "train[\"Sex\"].shape            # total record 891\n",
    "train[\"Sex\"].isna().sum()     # No null values\n",
    "test[\"Sex\"].isna().sum()     # No null values\n",
    "\n",
    "train[\"Sex\"].value_counts()  # male:577; female:314\n",
    "test[\"Sex\"].value_counts()  # male:266; female:152\n",
    "\n",
    "pd.crosstab(train[\"Survived\"],train[\"Sex\"])\n",
    "# Survival ratio from all survived(342): Female=.68; Male=32 \n",
    "\n",
    "# Ordinal Encoding : Male=0 ; Female=1\n",
    "def sex_encoder(data):\n",
    "    mapper={\"male\":0,\"female\":1}  \n",
    "    data[\"Sex\"]=data[\"Sex\"].replace(mapper) \n",
    "    return data\n",
    "\n",
    "sex_encoder(train)\n",
    "sex_encoder(test)"
   ]
  },
  {
   "cell_type": "code",
   "execution_count": 343,
   "id": "cec7eec1",
   "metadata": {
    "ExecuteTime": {
     "end_time": "2021-08-12T19:34:11.036449Z",
     "start_time": "2021-08-12T19:34:10.538723Z"
    }
   },
   "outputs": [
    {
     "data": {
      "text/plain": [
       "<AxesSubplot:xlabel='Sex', ylabel='count'>"
      ]
     },
     "execution_count": 343,
     "metadata": {},
     "output_type": "execute_result"
    },
    {
     "data": {
      "image/png": "[encoded data removed]",
      "text/plain": [
       "<Figure size 432x288 with 1 Axes>"
      ]
     },
     "metadata": {
      "needs_background": "light"
     },
     "output_type": "display_data"
    }
   ],
   "source": [
    "## visualization\n",
    "sns.countplot(x=train[\"Sex\"],hue=train[\"Survived\"],data=train)"
   ]
  },
  {
   "cell_type": "code",
   "execution_count": 344,
   "id": "b13cdb83",
   "metadata": {
    "ExecuteTime": {
     "end_time": "2021-08-12T19:34:12.221187Z",
     "start_time": "2021-08-12T19:34:12.209376Z"
    }
   },
   "outputs": [],
   "source": [
    "##   Summary\n",
    "# Females are more likely to survive from this disaster"
   ]
  },
  {
   "cell_type": "markdown",
   "id": "715d1417",
   "metadata": {},
   "source": [
    "### Age"
   ]
  },
  {
   "cell_type": "code",
   "execution_count": 345,
   "id": "681932c2",
   "metadata": {
    "ExecuteTime": {
     "end_time": "2021-08-12T19:34:14.447012Z",
     "start_time": "2021-08-12T19:34:14.376947Z"
    }
   },
   "outputs": [],
   "source": [
    "train[\"Age\"].isna().sum()    # 177 Null values\n",
    "test[\"Age\"].isna().sum()    # 86 Null values\n",
    "train[\"Age\"].describe()      \n",
    "\n",
    "## Rounding Age values \n",
    "train[\"Age\"]=round(train[\"Age\"])+1\n",
    "test[\"Age\"]=round(test[\"Age\"])+1\n",
    "\n",
    "## Impute missing values\n",
    "from sklearn.impute import SimpleImputer\n",
    "imputer=SimpleImputer(missing_values=np.nan,strategy='median')\n",
    "train[\"Age\"]=imputer.fit_transform(train[[\"Age\"]])\n",
    "test[\"Age\"]=imputer.fit_transform(test[[\"Age\"]])\n",
    "\n",
    "## Changing type\n",
    "train['Age']=train['Age'].astype(int)\n",
    "test['Age']=test['Age'].astype(int)\n"
   ]
  },
  {
   "cell_type": "code",
   "execution_count": 346,
   "id": "c2e278ad",
   "metadata": {
    "ExecuteTime": {
     "end_time": "2021-08-12T19:34:17.874753Z",
     "start_time": "2021-08-12T19:34:17.432693Z"
    }
   },
   "outputs": [
    {
     "data": {
      "text/plain": [
       "<AxesSubplot:xlabel='Age', ylabel='Density'>"
      ]
     },
     "execution_count": 346,
     "metadata": {},
     "output_type": "execute_result"
    },
    {
     "data": {
      "image/png": "[encoded data removed]",
      "text/plain": [
       "<Figure size 432x288 with 1 Axes>"
      ]
     },
     "metadata": {
      "needs_background": "light"
     },
     "output_type": "display_data"
    }
   ],
   "source": [
    "## Plot\n",
    "sns.kdeplot(x=train[\"Age\"],data=train)    # Along X-axis\n"
   ]
  },
  {
   "cell_type": "markdown",
   "id": "52736e1d",
   "metadata": {},
   "source": [
    "### SibSp:"
   ]
  },
  {
   "cell_type": "code",
   "execution_count": 347,
   "id": "63f59c56",
   "metadata": {
    "ExecuteTime": {
     "end_time": "2021-08-12T19:34:20.363065Z",
     "start_time": "2021-08-12T19:34:20.241891Z"
    }
   },
   "outputs": [
    {
     "name": "stdout",
     "output_type": "stream",
     "text": [
      "<class 'pandas.core.frame.DataFrame'>\n",
      "RangeIndex: 891 entries, 0 to 890\n",
      "Data columns (total 1 columns):\n",
      " #   Column  Non-Null Count  Dtype\n",
      "---  ------  --------------  -----\n",
      " 0   SibSp   891 non-null    int64\n",
      "dtypes: int64(1)\n",
      "memory usage: 7.1 KB\n"
     ]
    },
    {
     "data": {
      "text/html": [
       "<div>\n",
       "<style scoped>\n",
       "    .dataframe tbody tr th:only-of-type {\n",
       "        vertical-align: middle;\n",
       "    }\n",
       "\n",
       "    .dataframe tbody tr th {\n",
       "        vertical-align: top;\n",
       "    }\n",
       "\n",
       "    .dataframe thead th {\n",
       "        text-align: right;\n",
       "    }\n",
       "</style>\n",
       "<table border=\"1\" class=\"dataframe\">\n",
       "  <thead>\n",
       "    <tr style=\"text-align: right;\">\n",
       "      <th>SibSp</th>\n",
       "      <th>0</th>\n",
       "      <th>1</th>\n",
       "      <th>2</th>\n",
       "      <th>3</th>\n",
       "      <th>4</th>\n",
       "      <th>5</th>\n",
       "      <th>8</th>\n",
       "    </tr>\n",
       "    <tr>\n",
       "      <th>Survived</th>\n",
       "      <th></th>\n",
       "      <th></th>\n",
       "      <th></th>\n",
       "      <th></th>\n",
       "      <th></th>\n",
       "      <th></th>\n",
       "      <th></th>\n",
       "    </tr>\n",
       "  </thead>\n",
       "  <tbody>\n",
       "    <tr>\n",
       "      <th>0</th>\n",
       "      <td>398</td>\n",
       "      <td>97</td>\n",
       "      <td>15</td>\n",
       "      <td>12</td>\n",
       "      <td>15</td>\n",
       "      <td>5</td>\n",
       "      <td>7</td>\n",
       "    </tr>\n",
       "    <tr>\n",
       "      <th>1</th>\n",
       "      <td>210</td>\n",
       "      <td>112</td>\n",
       "      <td>13</td>\n",
       "      <td>4</td>\n",
       "      <td>3</td>\n",
       "      <td>0</td>\n",
       "      <td>0</td>\n",
       "    </tr>\n",
       "  </tbody>\n",
       "</table>\n",
       "</div>"
      ],
      "text/plain": [
       "SibSp       0    1   2   3   4  5  8\n",
       "Survived                            \n",
       "0         398   97  15  12  15  5  7\n",
       "1         210  112  13   4   3  0  0"
      ]
     },
     "execution_count": 347,
     "metadata": {},
     "output_type": "execute_result"
    }
   ],
   "source": [
    "train[\"SibSp\"].head()\n",
    "\n",
    "train[\"SibSp\"].isna().sum() # No null values\n",
    "test[\"SibSp\"].isna().sum() # No null values\n",
    "\n",
    "train[[\"SibSp\"]].info()     # int dtype\n",
    "\n",
    "train[\"SibSp\"].describe()\n",
    "\n",
    "train[\"SibSp\"].value_counts()  # [0,1,2,3,4,5,8]\n",
    "pd.crosstab(train[\"Survived\"],train[\"SibSp\"])\n"
   ]
  },
  {
   "cell_type": "code",
   "execution_count": 348,
   "id": "f2024079",
   "metadata": {
    "ExecuteTime": {
     "end_time": "2021-08-12T19:34:23.744054Z",
     "start_time": "2021-08-12T19:34:23.022789Z"
    }
   },
   "outputs": [
    {
     "data": {
      "text/plain": [
       "<AxesSubplot:xlabel='SibSp', ylabel='count'>"
      ]
     },
     "execution_count": 348,
     "metadata": {},
     "output_type": "execute_result"
    },
    {
     "data": {
      "image/png": "[encoded data removed]",
      "text/plain": [
       "<Figure size 432x288 with 1 Axes>"
      ]
     },
     "metadata": {
      "needs_background": "light"
     },
     "output_type": "display_data"
    }
   ],
   "source": [
    "## ploting\n",
    "sns.countplot(x=train[\"SibSp\"],hue=train[\"Survived\"],data=train)"
   ]
  },
  {
   "cell_type": "code",
   "execution_count": 349,
   "id": "c1e18977",
   "metadata": {
    "ExecuteTime": {
     "end_time": "2021-08-12T19:34:24.969650Z",
     "start_time": "2021-08-12T19:34:24.960882Z"
    }
   },
   "outputs": [],
   "source": [
    "## Summary\n",
    "# travelling Alone(608) & Survuved(210) : .35\n",
    "# travelling Not-Alone(283) & Survuved(132) : .47\n",
    "\n",
    "# Travelling alone less survival chances"
   ]
  },
  {
   "cell_type": "markdown",
   "id": "7640102c",
   "metadata": {},
   "source": [
    "### Parch"
   ]
  },
  {
   "cell_type": "code",
   "execution_count": 350,
   "id": "e6d4fefd",
   "metadata": {
    "ExecuteTime": {
     "end_time": "2021-08-12T19:34:26.798774Z",
     "start_time": "2021-08-12T19:34:26.670443Z"
    }
   },
   "outputs": [
    {
     "name": "stdout",
     "output_type": "stream",
     "text": [
      "<class 'pandas.core.frame.DataFrame'>\n",
      "RangeIndex: 891 entries, 0 to 890\n",
      "Data columns (total 1 columns):\n",
      " #   Column  Non-Null Count  Dtype\n",
      "---  ------  --------------  -----\n",
      " 0   Parch   891 non-null    int64\n",
      "dtypes: int64(1)\n",
      "memory usage: 7.1 KB\n"
     ]
    },
    {
     "data": {
      "text/html": [
       "<div>\n",
       "<style scoped>\n",
       "    .dataframe tbody tr th:only-of-type {\n",
       "        vertical-align: middle;\n",
       "    }\n",
       "\n",
       "    .dataframe tbody tr th {\n",
       "        vertical-align: top;\n",
       "    }\n",
       "\n",
       "    .dataframe thead th {\n",
       "        text-align: right;\n",
       "    }\n",
       "</style>\n",
       "<table border=\"1\" class=\"dataframe\">\n",
       "  <thead>\n",
       "    <tr style=\"text-align: right;\">\n",
       "      <th>Parch</th>\n",
       "      <th>0</th>\n",
       "      <th>1</th>\n",
       "      <th>2</th>\n",
       "      <th>3</th>\n",
       "      <th>4</th>\n",
       "      <th>5</th>\n",
       "      <th>6</th>\n",
       "    </tr>\n",
       "    <tr>\n",
       "      <th>Survived</th>\n",
       "      <th></th>\n",
       "      <th></th>\n",
       "      <th></th>\n",
       "      <th></th>\n",
       "      <th></th>\n",
       "      <th></th>\n",
       "      <th></th>\n",
       "    </tr>\n",
       "  </thead>\n",
       "  <tbody>\n",
       "    <tr>\n",
       "      <th>0</th>\n",
       "      <td>445</td>\n",
       "      <td>53</td>\n",
       "      <td>40</td>\n",
       "      <td>2</td>\n",
       "      <td>4</td>\n",
       "      <td>4</td>\n",
       "      <td>1</td>\n",
       "    </tr>\n",
       "    <tr>\n",
       "      <th>1</th>\n",
       "      <td>233</td>\n",
       "      <td>65</td>\n",
       "      <td>40</td>\n",
       "      <td>3</td>\n",
       "      <td>0</td>\n",
       "      <td>1</td>\n",
       "      <td>0</td>\n",
       "    </tr>\n",
       "  </tbody>\n",
       "</table>\n",
       "</div>"
      ],
      "text/plain": [
       "Parch       0   1   2  3  4  5  6\n",
       "Survived                         \n",
       "0         445  53  40  2  4  4  1\n",
       "1         233  65  40  3  0  1  0"
      ]
     },
     "execution_count": 350,
     "metadata": {},
     "output_type": "execute_result"
    }
   ],
   "source": [
    "train[\"Parch\"].head()\n",
    "\n",
    "train[\"Parch\"].isna().sum()     # No null value\n",
    "test[\"Parch\"].isna().sum()     # No null value\n",
    "\n",
    "train[[\"Parch\"]].info()         # int dtype\n",
    "\n",
    "train[\"Parch\"].describe()\n",
    "\n",
    "train[\"Parch\"].value_counts()  # [0,1,2,3,4,5,8]\n",
    "pd.crosstab(train[\"Survived\"],train[\"Parch\"])"
   ]
  },
  {
   "cell_type": "code",
   "execution_count": 351,
   "id": "e72ec22d",
   "metadata": {
    "ExecuteTime": {
     "end_time": "2021-08-12T19:34:28.559471Z",
     "start_time": "2021-08-12T19:34:27.978048Z"
    }
   },
   "outputs": [
    {
     "data": {
      "text/plain": [
       "<AxesSubplot:xlabel='Parch', ylabel='count'>"
      ]
     },
     "execution_count": 351,
     "metadata": {},
     "output_type": "execute_result"
    },
    {
     "data": {
      "image/png": "[encoded data removed]",
      "text/plain": [
       "<Figure size 432x288 with 1 Axes>"
      ]
     },
     "metadata": {
      "needs_background": "light"
     },
     "output_type": "display_data"
    }
   ],
   "source": [
    "## ploting\n",
    "sns.countplot(x=train[\"Parch\"],hue=train[\"Survived\"],data=train)"
   ]
  },
  {
   "cell_type": "code",
   "execution_count": 352,
   "id": "c6307504",
   "metadata": {
    "ExecuteTime": {
     "end_time": "2021-08-12T19:34:31.869423Z",
     "start_time": "2021-08-12T19:34:31.848758Z"
    }
   },
   "outputs": [],
   "source": [
    "## Summary\n",
    "# travelling Alone(678) & Survuved : .34\n",
    "# travelling Not-Alone(213) & Survuved : .51\n",
    "\n",
    "# Travelling alone less survival chances"
   ]
  },
  {
   "cell_type": "markdown",
   "id": "2983e616",
   "metadata": {},
   "source": [
    "### Family Size:"
   ]
  },
  {
   "cell_type": "code",
   "execution_count": 361,
   "id": "bb4b88ed",
   "metadata": {
    "ExecuteTime": {
     "end_time": "2021-08-12T19:51:29.026839Z",
     "start_time": "2021-08-12T19:51:29.001012Z"
    }
   },
   "outputs": [],
   "source": [
    "train[\"Family\"]=train[\"SibSp\"]+train[\"Parch\"]\n",
    "test[\"Family\"]=test[\"SibSp\"]+test[\"Parch\"]\n",
    "\n",
    "sns.countplot(x=\"Family\",data=train)"
   ]
  },
  {
   "cell_type": "markdown",
   "id": "2f0f4016",
   "metadata": {},
   "source": [
    "### Ticket :"
   ]
  },
  {
   "cell_type": "code",
   "execution_count": 353,
   "id": "8fd7d2f0",
   "metadata": {
    "ExecuteTime": {
     "end_time": "2021-08-12T19:34:37.715425Z",
     "start_time": "2021-08-12T19:34:37.700082Z"
    }
   },
   "outputs": [],
   "source": [
    "train.drop([\"Ticket\"],axis=1,inplace=True)\n",
    "test.drop([\"Ticket\"],axis=1,inplace=True)"
   ]
  },
  {
   "cell_type": "markdown",
   "id": "175d7d98",
   "metadata": {},
   "source": [
    "### Fare :"
   ]
  },
  {
   "cell_type": "code",
   "execution_count": 354,
   "id": "6d4c612c",
   "metadata": {
    "ExecuteTime": {
     "end_time": "2021-08-12T19:34:38.989699Z",
     "start_time": "2021-08-12T19:34:38.904283Z"
    }
   },
   "outputs": [
    {
     "name": "stdout",
     "output_type": "stream",
     "text": [
      "<class 'pandas.core.frame.DataFrame'>\n",
      "RangeIndex: 891 entries, 0 to 890\n",
      "Data columns (total 1 columns):\n",
      " #   Column  Non-Null Count  Dtype  \n",
      "---  ------  --------------  -----  \n",
      " 0   Fare    891 non-null    float64\n",
      "dtypes: float64(1)\n",
      "memory usage: 7.1 KB\n"
     ]
    },
    {
     "data": {
      "text/plain": [
       "count    418.000000\n",
       "mean      35.576535\n",
       "std       55.850103\n",
       "min        0.000000\n",
       "25%        7.895800\n",
       "50%       14.454200\n",
       "75%       31.471875\n",
       "max      512.329200\n",
       "Name: Fare, dtype: float64"
      ]
     },
     "execution_count": 354,
     "metadata": {},
     "output_type": "execute_result"
    }
   ],
   "source": [
    "train[\"Fare\"].head()\n",
    "\n",
    "train[\"Fare\"].isna().sum()    # No null values\n",
    "test[\"Fare\"].isna().sum()    # 1\n",
    "\n",
    "## Impute missing values\n",
    "from sklearn.impute import SimpleImputer\n",
    "imputer=SimpleImputer(missing_values=np.nan,strategy='median')\n",
    "test[\"Fare\"]=imputer.fit_transform(test[[\"Fare\"]])\n",
    "\n",
    "train[[\"Fare\"]].info()        # int dtype\n",
    "\n",
    "test[\"Fare\"].describe()"
   ]
  },
  {
   "cell_type": "code",
   "execution_count": 355,
   "id": "91db7343",
   "metadata": {
    "ExecuteTime": {
     "end_time": "2021-08-12T19:34:40.632406Z",
     "start_time": "2021-08-12T19:34:40.103698Z"
    }
   },
   "outputs": [
    {
     "data": {
      "text/plain": [
       "<AxesSubplot:xlabel='Fare', ylabel='Density'>"
      ]
     },
     "execution_count": 355,
     "metadata": {},
     "output_type": "execute_result"
    },
    {
     "data": {
      "image/png": "[encoded data removed]",
      "text/plain": [
       "<Figure size 432x288 with 1 Axes>"
      ]
     },
     "metadata": {
      "needs_background": "light"
     },
     "output_type": "display_data"
    }
   ],
   "source": [
    "## Plot\n",
    "sns.kdeplot(x=\"Fare\",data=train)    # Along X-axis"
   ]
  },
  {
   "cell_type": "markdown",
   "id": "a0f10c6e",
   "metadata": {},
   "source": [
    "### Cabin "
   ]
  },
  {
   "cell_type": "code",
   "execution_count": 356,
   "id": "c6d80413",
   "metadata": {
    "ExecuteTime": {
     "end_time": "2021-08-12T19:34:41.699431Z",
     "start_time": "2021-08-12T19:34:41.675689Z"
    }
   },
   "outputs": [],
   "source": [
    "train[\"Cabin\"].head()\n",
    "\n",
    "train[\"Cabin\"].isna().sum()    # 687\n",
    "test[\"Cabin\"].isna().sum()    # 327\n",
    "\n",
    "train.drop([\"Cabin\"],axis=1,inplace=True)\n",
    "test.drop([\"Cabin\"],axis=1,inplace=True)"
   ]
  },
  {
   "cell_type": "markdown",
   "id": "589c2511",
   "metadata": {},
   "source": [
    "### Embarked"
   ]
  },
  {
   "cell_type": "code",
   "execution_count": 357,
   "id": "5a4c1c31",
   "metadata": {
    "ExecuteTime": {
     "end_time": "2021-08-12T19:34:42.903250Z",
     "start_time": "2021-08-12T19:34:42.778990Z"
    }
   },
   "outputs": [
    {
     "name": "stdout",
     "output_type": "stream",
     "text": [
      "<class 'pandas.core.frame.DataFrame'>\n",
      "RangeIndex: 891 entries, 0 to 890\n",
      "Data columns (total 1 columns):\n",
      " #   Column    Non-Null Count  Dtype \n",
      "---  ------    --------------  ----- \n",
      " 0   Embarked  891 non-null    object\n",
      "dtypes: object(1)\n",
      "memory usage: 7.1+ KB\n"
     ]
    }
   ],
   "source": [
    "train[\"Embarked\"].head()\n",
    "\n",
    "train[\"Embarked\"].isna().sum()     # 2\n",
    "test[\"Embarked\"].isna().sum()     # No null value\n",
    "\n",
    "## Filling missing values\n",
    "train[\"Embarked\"].fillna(value=\"C\",inplace=True)\n",
    "\n",
    "train[[\"Embarked\"]].info()         # Ordinal Category\n",
    "\n",
    "train[\"Embarked\"].describe()\n",
    "\n",
    "\n",
    "train[\"Embarked\"].value_counts()  # [\"C\" , \"Q\" , \"S\"]\n",
    "pd.crosstab(train[\"Survived\"],train[\"Embarked\"])\n",
    "\n",
    "# Embarked Encoder\n",
    "def embarked_encoder(data):\n",
    "    df=pd.get_dummies(data=data[\"Embarked\"],prefix='Embarked')\n",
    "    data=pd.concat([data,df],axis=1) \n",
    "    data.drop([\"Embarked\"],axis=1,inplace=True)\n",
    "    return data\n",
    "    \n",
    "train=embarked_encoder(train)\n",
    "test=embarked_encoder(test)\n",
    "\n",
    "#train.Embarked_Q.value_counts()   # 0:814 ; 1:77\n",
    "#train.Embarked_S.value_counts()   # 0:247 ; 1:644 \n",
    "#train.Embarked_C.value_counts()   # 0:721 ; 1:170"
   ]
  },
  {
   "cell_type": "code",
   "execution_count": 228,
   "id": "794c45c0",
   "metadata": {
    "ExecuteTime": {
     "end_time": "2021-08-06T17:14:03.023998Z",
     "start_time": "2021-08-06T17:14:02.923987Z"
    }
   },
   "outputs": [
    {
     "ename": "KeyError",
     "evalue": "'Embarked'",
     "output_type": "error",
     "traceback": [
      "\u001b[1;31m---------------------------------------------------------------------------\u001b[0m",
      "\u001b[1;31mKeyError\u001b[0m                                  Traceback (most recent call last)",
      "\u001b[1;32m~\\anaconda3\\lib\\site-packages\\pandas\\core\\indexes\\base.py\u001b[0m in \u001b[0;36mget_loc\u001b[1;34m(self, key, method, tolerance)\u001b[0m\n\u001b[0;32m   3079\u001b[0m             \u001b[1;32mtry\u001b[0m\u001b[1;33m:\u001b[0m\u001b[1;33m\u001b[0m\u001b[1;33m\u001b[0m\u001b[0m\n\u001b[1;32m-> 3080\u001b[1;33m                 \u001b[1;32mreturn\u001b[0m \u001b[0mself\u001b[0m\u001b[1;33m.\u001b[0m\u001b[0m_engine\u001b[0m\u001b[1;33m.\u001b[0m\u001b[0mget_loc\u001b[0m\u001b[1;33m(\u001b[0m\u001b[0mcasted_key\u001b[0m\u001b[1;33m)\u001b[0m\u001b[1;33m\u001b[0m\u001b[1;33m\u001b[0m\u001b[0m\n\u001b[0m\u001b[0;32m   3081\u001b[0m             \u001b[1;32mexcept\u001b[0m \u001b[0mKeyError\u001b[0m \u001b[1;32mas\u001b[0m \u001b[0merr\u001b[0m\u001b[1;33m:\u001b[0m\u001b[1;33m\u001b[0m\u001b[1;33m\u001b[0m\u001b[0m\n",
      "\u001b[1;32mpandas\\_libs\\index.pyx\u001b[0m in \u001b[0;36mpandas._libs.index.IndexEngine.get_loc\u001b[1;34m()\u001b[0m\n",
      "\u001b[1;32mpandas\\_libs\\index.pyx\u001b[0m in \u001b[0;36mpandas._libs.index.IndexEngine.get_loc\u001b[1;34m()\u001b[0m\n",
      "\u001b[1;32mpandas\\_libs\\hashtable_class_helper.pxi\u001b[0m in \u001b[0;36mpandas._libs.hashtable.PyObjectHashTable.get_item\u001b[1;34m()\u001b[0m\n",
      "\u001b[1;32mpandas\\_libs\\hashtable_class_helper.pxi\u001b[0m in \u001b[0;36mpandas._libs.hashtable.PyObjectHashTable.get_item\u001b[1;34m()\u001b[0m\n",
      "\u001b[1;31mKeyError\u001b[0m: 'Embarked'",
      "\nThe above exception was the direct cause of the following exception:\n",
      "\u001b[1;31mKeyError\u001b[0m                                  Traceback (most recent call last)",
      "\u001b[1;32m<ipython-input-228-9b43fa444140>\u001b[0m in \u001b[0;36m<module>\u001b[1;34m\u001b[0m\n\u001b[0;32m      1\u001b[0m \u001b[1;31m## ploting\u001b[0m\u001b[1;33m\u001b[0m\u001b[1;33m\u001b[0m\u001b[1;33m\u001b[0m\u001b[0m\n\u001b[1;32m----> 2\u001b[1;33m \u001b[0msns\u001b[0m\u001b[1;33m.\u001b[0m\u001b[0mcountplot\u001b[0m\u001b[1;33m(\u001b[0m\u001b[0mx\u001b[0m\u001b[1;33m=\u001b[0m\u001b[0mtrain\u001b[0m\u001b[1;33m[\u001b[0m\u001b[1;34m\"Embarked\"\u001b[0m\u001b[1;33m]\u001b[0m\u001b[1;33m,\u001b[0m\u001b[0mhue\u001b[0m\u001b[1;33m=\u001b[0m\u001b[0mtrain\u001b[0m\u001b[1;33m[\u001b[0m\u001b[1;34m\"Survived\"\u001b[0m\u001b[1;33m]\u001b[0m\u001b[1;33m,\u001b[0m\u001b[0mdata\u001b[0m\u001b[1;33m=\u001b[0m\u001b[0mtrain\u001b[0m\u001b[1;33m)\u001b[0m\u001b[1;33m\u001b[0m\u001b[1;33m\u001b[0m\u001b[0m\n\u001b[0m",
      "\u001b[1;32m~\\anaconda3\\lib\\site-packages\\pandas\\core\\frame.py\u001b[0m in \u001b[0;36m__getitem__\u001b[1;34m(self, key)\u001b[0m\n\u001b[0;32m   3022\u001b[0m             \u001b[1;32mif\u001b[0m \u001b[0mself\u001b[0m\u001b[1;33m.\u001b[0m\u001b[0mcolumns\u001b[0m\u001b[1;33m.\u001b[0m\u001b[0mnlevels\u001b[0m \u001b[1;33m>\u001b[0m \u001b[1;36m1\u001b[0m\u001b[1;33m:\u001b[0m\u001b[1;33m\u001b[0m\u001b[1;33m\u001b[0m\u001b[0m\n\u001b[0;32m   3023\u001b[0m                 \u001b[1;32mreturn\u001b[0m \u001b[0mself\u001b[0m\u001b[1;33m.\u001b[0m\u001b[0m_getitem_multilevel\u001b[0m\u001b[1;33m(\u001b[0m\u001b[0mkey\u001b[0m\u001b[1;33m)\u001b[0m\u001b[1;33m\u001b[0m\u001b[1;33m\u001b[0m\u001b[0m\n\u001b[1;32m-> 3024\u001b[1;33m             \u001b[0mindexer\u001b[0m \u001b[1;33m=\u001b[0m \u001b[0mself\u001b[0m\u001b[1;33m.\u001b[0m\u001b[0mcolumns\u001b[0m\u001b[1;33m.\u001b[0m\u001b[0mget_loc\u001b[0m\u001b[1;33m(\u001b[0m\u001b[0mkey\u001b[0m\u001b[1;33m)\u001b[0m\u001b[1;33m\u001b[0m\u001b[1;33m\u001b[0m\u001b[0m\n\u001b[0m\u001b[0;32m   3025\u001b[0m             \u001b[1;32mif\u001b[0m \u001b[0mis_integer\u001b[0m\u001b[1;33m(\u001b[0m\u001b[0mindexer\u001b[0m\u001b[1;33m)\u001b[0m\u001b[1;33m:\u001b[0m\u001b[1;33m\u001b[0m\u001b[1;33m\u001b[0m\u001b[0m\n\u001b[0;32m   3026\u001b[0m                 \u001b[0mindexer\u001b[0m \u001b[1;33m=\u001b[0m \u001b[1;33m[\u001b[0m\u001b[0mindexer\u001b[0m\u001b[1;33m]\u001b[0m\u001b[1;33m\u001b[0m\u001b[1;33m\u001b[0m\u001b[0m\n",
      "\u001b[1;32m~\\anaconda3\\lib\\site-packages\\pandas\\core\\indexes\\base.py\u001b[0m in \u001b[0;36mget_loc\u001b[1;34m(self, key, method, tolerance)\u001b[0m\n\u001b[0;32m   3080\u001b[0m                 \u001b[1;32mreturn\u001b[0m \u001b[0mself\u001b[0m\u001b[1;33m.\u001b[0m\u001b[0m_engine\u001b[0m\u001b[1;33m.\u001b[0m\u001b[0mget_loc\u001b[0m\u001b[1;33m(\u001b[0m\u001b[0mcasted_key\u001b[0m\u001b[1;33m)\u001b[0m\u001b[1;33m\u001b[0m\u001b[1;33m\u001b[0m\u001b[0m\n\u001b[0;32m   3081\u001b[0m             \u001b[1;32mexcept\u001b[0m \u001b[0mKeyError\u001b[0m \u001b[1;32mas\u001b[0m \u001b[0merr\u001b[0m\u001b[1;33m:\u001b[0m\u001b[1;33m\u001b[0m\u001b[1;33m\u001b[0m\u001b[0m\n\u001b[1;32m-> 3082\u001b[1;33m                 \u001b[1;32mraise\u001b[0m \u001b[0mKeyError\u001b[0m\u001b[1;33m(\u001b[0m\u001b[0mkey\u001b[0m\u001b[1;33m)\u001b[0m \u001b[1;32mfrom\u001b[0m \u001b[0merr\u001b[0m\u001b[1;33m\u001b[0m\u001b[1;33m\u001b[0m\u001b[0m\n\u001b[0m\u001b[0;32m   3083\u001b[0m \u001b[1;33m\u001b[0m\u001b[0m\n\u001b[0;32m   3084\u001b[0m         \u001b[1;32mif\u001b[0m \u001b[0mtolerance\u001b[0m \u001b[1;32mis\u001b[0m \u001b[1;32mnot\u001b[0m \u001b[1;32mNone\u001b[0m\u001b[1;33m:\u001b[0m\u001b[1;33m\u001b[0m\u001b[1;33m\u001b[0m\u001b[0m\n",
      "\u001b[1;31mKeyError\u001b[0m: 'Embarked'"
     ]
    }
   ],
   "source": [
    "## ploting\n",
    "sns.countplot(x=train[\"Embarked\"],hue=train[\"Survived\"],data=train)"
   ]
  },
  {
   "cell_type": "code",
   "execution_count": 232,
   "id": "8f2fe85a",
   "metadata": {
    "ExecuteTime": {
     "end_time": "2021-08-06T17:14:43.829693Z",
     "start_time": "2021-08-06T17:14:43.820907Z"
    }
   },
   "outputs": [],
   "source": [
    "## Summary\n",
    "# Survival rate for Embarked==\"C\" => .55\n",
    "# Survival rate for Embarked==\"S\" => .34\n",
    "# Survival rate for Embarked==\"Q\" => .39\n",
    "\n",
    "# Pepole Embarked from \"Queensland\" having greater survival rate"
   ]
  },
  {
   "cell_type": "markdown",
   "id": "650f3ac8",
   "metadata": {},
   "source": [
    "### Survived"
   ]
  },
  {
   "cell_type": "code",
   "execution_count": 358,
   "id": "9f5c46af",
   "metadata": {
    "ExecuteTime": {
     "end_time": "2021-08-12T19:38:32.380847Z",
     "start_time": "2021-08-12T19:38:32.033581Z"
    }
   },
   "outputs": [
    {
     "data": {
      "image/png": "[encoded data removed]",
      "text/plain": [
       "<Figure size 432x288 with 1 Axes>"
      ]
     },
     "metadata": {
      "needs_background": "light"
     },
     "output_type": "display_data"
    }
   ],
   "source": [
    "train[\"Survived\"].head()\n",
    "\n",
    "train[\"Survived\"].isna().sum()    # no null-values\n",
    "\n",
    "train[\"Survived\"].value_counts()  # 0:549; 1:342\n",
    "\n",
    "## plot\n",
    "sns.countplot(x=train[\"Survived\"],data=train)\n",
    "\n",
    "# cutting out \"Survived\" and making as target(y)\n",
    "target=train.pop(\"Survived\")"
   ]
  },
  {
   "cell_type": "markdown",
   "id": "3b81af28",
   "metadata": {},
   "source": [
    "## Model Training"
   ]
  },
  {
   "cell_type": "markdown",
   "id": "dfb169da",
   "metadata": {},
   "source": [
    "### Logistic Reg."
   ]
  },
  {
   "cell_type": "code",
   "execution_count": 277,
   "id": "f51c16af",
   "metadata": {
    "ExecuteTime": {
     "end_time": "2021-08-11T09:25:13.032972Z",
     "start_time": "2021-08-11T09:25:12.905563Z"
    }
   },
   "outputs": [
    {
     "name": "stderr",
     "output_type": "stream",
     "text": [
      "C:\\Users\\JokeRR\\anaconda3\\lib\\site-packages\\sklearn\\linear_model\\_logistic.py:763: ConvergenceWarning: lbfgs failed to converge (status=1):\n",
      "STOP: TOTAL NO. of ITERATIONS REACHED LIMIT.\n",
      "\n",
      "Increase the number of iterations (max_iter) or scale the data as shown in:\n",
      "    https://scikit-learn.org/stable/modules/preprocessing.html\n",
      "Please also refer to the documentation for alternative solver options:\n",
      "    https://scikit-learn.org/stable/modules/linear_model.html#logistic-regression\n",
      "  n_iter_i = _check_optimize_result(\n"
     ]
    },
    {
     "data": {
      "text/plain": [
       "'\\ntrain_Accuracy : 0.8\\ntest_Accuracy : 0.98\\ntrain_ROC AUC : 0.85\\ntest_ROC AUC : 1.0\\n'"
      ]
     },
     "execution_count": 277,
     "metadata": {},
     "output_type": "execute_result"
    }
   ],
   "source": [
    "from sklearn.linear_model import LogisticRegression\n",
    "\n",
    "lr=LogisticRegression(random_state=21,multi_class=\"auto\",C=2,dual=False,max_iter=50,penalty='l2',solver='lbfgs').fit(train,target)\n",
    "lr_pred=lr.predict(test)\n",
    "lr_proba=lr.predict_proba(test)          # Probability estimates.\n",
    "\n",
    "\n",
    "\"\"\"\n",
    "train_Accuracy : 0.8\n",
    "test_Accuracy : 0.98\n",
    "train_ROC AUC : 0.85\n",
    "test_ROC AUC : 1.0\n",
    "\"\"\""
   ]
  },
  {
   "cell_type": "markdown",
   "id": "35d551ea",
   "metadata": {},
   "source": [
    "### SVC"
   ]
  },
  {
   "cell_type": "code",
   "execution_count": 278,
   "id": "cc0c6aa2",
   "metadata": {
    "ExecuteTime": {
     "end_time": "2021-08-11T09:25:53.582347Z",
     "start_time": "2021-08-11T09:25:52.705514Z"
    }
   },
   "outputs": [
    {
     "data": {
      "text/plain": [
       "'\\ntrain_Accuracy : 0.68\\ntest_Accuracy : 1.0\\ntrain_ROC AUC : 0.74\\ntest_ROC AUC : 1.0\\n'"
      ]
     },
     "execution_count": 278,
     "metadata": {},
     "output_type": "execute_result"
    }
   ],
   "source": [
    "from sklearn.svm import SVC\n",
    "svc=SVC(probability=True).fit(train,target)              ##train model\n",
    "svc_pred=svc.predict(test)  # prediction\n",
    "svc_proba=svc.predict_proba(test) # predict probability class(if probability=True)\n",
    "\n",
    "\n",
    "\"\"\"\n",
    "train_Accuracy : 0.68\n",
    "test_Accuracy : 1.0\n",
    "train_ROC AUC : 0.74\n",
    "test_ROC AUC : 1.0\n",
    "\"\"\""
   ]
  },
  {
   "cell_type": "markdown",
   "id": "3d4dcd18",
   "metadata": {},
   "source": [
    "### Random Forest"
   ]
  },
  {
   "cell_type": "code",
   "execution_count": 279,
   "id": "dc08e83d",
   "metadata": {
    "ExecuteTime": {
     "end_time": "2021-08-11T09:25:57.366718Z",
     "start_time": "2021-08-11T09:25:56.529033Z"
    }
   },
   "outputs": [
    {
     "data": {
      "text/plain": [
       "'\\ntrain_Accuracy : 0.81\\ntest_Accuracy : 0.99\\ntrain_ROC AUC : 0.87\\ntest_ROC AUC : 1.0\\n'"
      ]
     },
     "execution_count": 279,
     "metadata": {},
     "output_type": "execute_result"
    }
   ],
   "source": [
    "from sklearn.ensemble import RandomForestClassifier\n",
    "rf=RandomForestClassifier(bootstrap=True,class_weight='balanced_subsample',criterion='gini',max_features='log2',n_estimators=100).fit(train,target)         ## Train model\n",
    "rf_pred=rf.predict(test)                       ##  prediction\n",
    "rf_proba=rf.predict_proba(test)           # Predict class probabilities\n",
    "\n",
    "## After Tuning: Score increased 79.44 to 82.\n",
    "#{'bootstrap'=True,'class_weight'='balanced_subsample','criterion'='gini','max_features'='log2','n_estimators'=100}\n",
    "\"\"\"\n",
    "train_Accuracy : 0.81\n",
    "test_Accuracy : 0.99\n",
    "train_ROC AUC : 0.87\n",
    "test_ROC AUC : 1.0\n",
    "\"\"\""
   ]
  },
  {
   "cell_type": "code",
   "execution_count": 360,
   "id": "de975fac",
   "metadata": {
    "ExecuteTime": {
     "end_time": "2021-08-12T19:44:53.444374Z",
     "start_time": "2021-08-12T19:44:53.403888Z"
    }
   },
   "outputs": [
    {
     "data": {
      "text/html": [
       "<div>\n",
       "<style scoped>\n",
       "    .dataframe tbody tr th:only-of-type {\n",
       "        vertical-align: middle;\n",
       "    }\n",
       "\n",
       "    .dataframe tbody tr th {\n",
       "        vertical-align: top;\n",
       "    }\n",
       "\n",
       "    .dataframe thead th {\n",
       "        text-align: right;\n",
       "    }\n",
       "</style>\n",
       "<table border=\"1\" class=\"dataframe\">\n",
       "  <thead>\n",
       "    <tr style=\"text-align: right;\">\n",
       "      <th></th>\n",
       "      <th>PassengerId</th>\n",
       "      <th>Pclass</th>\n",
       "      <th>Sex</th>\n",
       "      <th>Age</th>\n",
       "      <th>SibSp</th>\n",
       "      <th>Parch</th>\n",
       "      <th>Fare</th>\n",
       "      <th>Embarked_C</th>\n",
       "      <th>Embarked_Q</th>\n",
       "      <th>Embarked_S</th>\n",
       "    </tr>\n",
       "  </thead>\n",
       "  <tbody>\n",
       "    <tr>\n",
       "      <th>0</th>\n",
       "      <td>1</td>\n",
       "      <td>3</td>\n",
       "      <td>0</td>\n",
       "      <td>23</td>\n",
       "      <td>1</td>\n",
       "      <td>0</td>\n",
       "      <td>7.2500</td>\n",
       "      <td>0</td>\n",
       "      <td>0</td>\n",
       "      <td>1</td>\n",
       "    </tr>\n",
       "    <tr>\n",
       "      <th>1</th>\n",
       "      <td>2</td>\n",
       "      <td>1</td>\n",
       "      <td>1</td>\n",
       "      <td>39</td>\n",
       "      <td>1</td>\n",
       "      <td>0</td>\n",
       "      <td>71.2833</td>\n",
       "      <td>1</td>\n",
       "      <td>0</td>\n",
       "      <td>0</td>\n",
       "    </tr>\n",
       "    <tr>\n",
       "      <th>2</th>\n",
       "      <td>3</td>\n",
       "      <td>3</td>\n",
       "      <td>1</td>\n",
       "      <td>27</td>\n",
       "      <td>0</td>\n",
       "      <td>0</td>\n",
       "      <td>7.9250</td>\n",
       "      <td>0</td>\n",
       "      <td>0</td>\n",
       "      <td>1</td>\n",
       "    </tr>\n",
       "    <tr>\n",
       "      <th>3</th>\n",
       "      <td>4</td>\n",
       "      <td>1</td>\n",
       "      <td>1</td>\n",
       "      <td>36</td>\n",
       "      <td>1</td>\n",
       "      <td>0</td>\n",
       "      <td>53.1000</td>\n",
       "      <td>0</td>\n",
       "      <td>0</td>\n",
       "      <td>1</td>\n",
       "    </tr>\n",
       "    <tr>\n",
       "      <th>4</th>\n",
       "      <td>5</td>\n",
       "      <td>3</td>\n",
       "      <td>0</td>\n",
       "      <td>36</td>\n",
       "      <td>0</td>\n",
       "      <td>0</td>\n",
       "      <td>8.0500</td>\n",
       "      <td>0</td>\n",
       "      <td>0</td>\n",
       "      <td>1</td>\n",
       "    </tr>\n",
       "  </tbody>\n",
       "</table>\n",
       "</div>"
      ],
      "text/plain": [
       "   PassengerId  Pclass  Sex  Age  SibSp  Parch     Fare  Embarked_C  \\\n",
       "0            1       3    0   23      1      0   7.2500           0   \n",
       "1            2       1    1   39      1      0  71.2833           1   \n",
       "2            3       3    1   27      0      0   7.9250           0   \n",
       "3            4       1    1   36      1      0  53.1000           0   \n",
       "4            5       3    0   36      0      0   8.0500           0   \n",
       "\n",
       "   Embarked_Q  Embarked_S  \n",
       "0           0           1  \n",
       "1           0           0  \n",
       "2           0           1  \n",
       "3           0           1  \n",
       "4           0           1  "
      ]
     },
     "execution_count": 360,
     "metadata": {},
     "output_type": "execute_result"
    }
   ],
   "source": [
    "train.head()"
   ]
  },
  {
   "cell_type": "markdown",
   "id": "ce9679ed",
   "metadata": {},
   "source": [
    "## Model Selection :  "
   ]
  },
  {
   "cell_type": "code",
   "execution_count": 379,
   "id": "69769fdc",
   "metadata": {
    "ExecuteTime": {
     "end_time": "2021-08-12T20:02:22.526444Z",
     "start_time": "2021-08-12T20:02:22.494185Z"
    }
   },
   "outputs": [
    {
     "data": {
      "text/plain": [
       "array([2.22848123e-02, 1.15031272e+02, 3.72405724e+02, 3.72286371e+00,\n",
       "       1.11057220e+00, 5.96346384e+00, 6.30307642e+01, 2.79923057e+01,\n",
       "       1.18463440e-02, 2.20754686e+01, 2.46193112e-01])"
      ]
     },
     "execution_count": 379,
     "metadata": {},
     "output_type": "execute_result"
    }
   ],
   "source": [
    "### SelectKBest\n",
    "from sklearn.feature_selection import SelectKBest,f_classif\n",
    "skb=SelectKBest(f_classif\n",
    "                ,k=9)\n",
    "skb.fit_transform(train,target)\n",
    "\n",
    "skb.scores_   # (n_features) Scores of features\n",
    "skb.pvalues_  # (n_features) p-values of feature scores (None: if 'score_func' returned only scores)\n",
    "\n",
    "\n",
    "### GenericUnivariateSelect\n",
    "from sklearn.feature_selection import GenericUnivariateSelect,chi2\n",
    "gus=GenericUnivariateSelect(chi2,mode='k_best',param=5)\n",
    "gus.fit_transform(train,target)\n",
    "\n",
    "gus.scores_   # (n_features) Scores of features\n",
    "gus.pvalues_  # (n_features) p-values of feature scores (None: if 'score_func' returned only scores)\n",
    "\n",
    "\n",
    "### RFE \n",
    "import warnings\n",
    "warnings.filterwarnings(action=\"ignore\",module=\"scipy\",message=\"^internal gelsd\")  ## Suppress warning\n",
    "from sklearn.feature_selection import RFECV\n",
    "\n",
    "# set model\n",
    "rfecv=RFECV(rf,cv=20,n_jobs=-1,min_features_to_select=11,scoring=\"roc_auc\")\n",
    "rfecv.fit(train,target)\n",
    "\n",
    "rfecv.n_features_       # No. of Best Features\n",
    "rfecv.support_          # Best Features(as True)\n",
    "rfecv.ranking_          # Features Rank(best:1 to worst)\n",
    "rfecv.grid_scores_      # CV Score for each Feature\n",
    "rfecv.estimator_          # Info. of External Model\n",
    "\n",
    "### Sequential Selector\n",
    "from sklearn.feature_selection import SequentialFeatureSelector\n",
    "from sklearn.ensemble import RandomForestClassifier\n",
    "\n",
    "model=RandomForestClassifier(bootstrap=True,class_weight='balanced_subsample',criterion='gini',max_features='log2',n_estimators=100)\n",
    "sfs=SequentialFeatureSelector(model,n_features_to_select=7,direction='forward',n_jobs=-1)\n",
    "sfs.fit(train,target)\n",
    "\n",
    "#sfs.transform(X)  # Reduce 'x' to selected features     \n",
    "\n",
    "sfs.n_features_to_select_ #(int) No. of features that selected\n"
   ]
  },
  {
   "cell_type": "markdown",
   "id": "c9455a99",
   "metadata": {},
   "source": [
    "## Hyperparameter Tuning:"
   ]
  },
  {
   "cell_type": "code",
   "execution_count": 127,
   "id": "74f7cf02",
   "metadata": {
    "ExecuteTime": {
     "end_time": "2021-08-05T08:26:04.026400Z",
     "start_time": "2021-08-05T07:48:51.967360Z"
    }
   },
   "outputs": [],
   "source": [
    "from sklearn.model_selection import GridSearchCV\n",
    "\n",
    "## {'parameter_name'=[possible values]}\n",
    "param_grid={\"criterion\":[\"gini\",\"entropy\"],\n",
    "            \"max_features\":[\"auto\",\"sqrt\",\"log2\"],\n",
    "            \"class_weight\":[\"balanced\",'balanced_subsample'],\n",
    "            \"n_estimators\":[50,100,150,200,250,300,400,500],\n",
    "            \"bootstrap\":[True,False]\n",
    "           }\n",
    "\n",
    "# np.logspace(0,4,10)  # generate float\n",
    "# np.arange(0,15)      # generate int\n",
    "\n",
    "\n",
    "gscv=GridSearchCV(model,param_grid,cv=10,verbose=0,refit=False)  \n",
    "best=gscv.fit(train,target)"
   ]
  },
  {
   "cell_type": "code",
   "execution_count": 129,
   "id": "c9de7177",
   "metadata": {
    "ExecuteTime": {
     "end_time": "2021-08-05T08:27:47.207482Z",
     "start_time": "2021-08-05T08:27:47.195512Z"
    }
   },
   "outputs": [
    {
     "data": {
      "text/plain": [
       "{'bootstrap': True,\n",
       " 'class_weight': 'balanced_subsample',\n",
       " 'criterion': 'gini',\n",
       " 'max_features': 'log2',\n",
       " 'n_estimators': 100}"
      ]
     },
     "execution_count": 129,
     "metadata": {},
     "output_type": "execute_result"
    }
   ],
   "source": [
    "#best.best_estimator_               ## best model(if refit=True)\n",
    "best.best_score_                   ## mean cv score((if refit=True))\n",
    "best.best_params_"
   ]
  },
  {
   "cell_type": "markdown",
   "id": "789163e7",
   "metadata": {},
   "source": [
    "## Calibration Curve"
   ]
  },
  {
   "cell_type": "code",
   "execution_count": 285,
   "id": "4d971348",
   "metadata": {
    "ExecuteTime": {
     "end_time": "2021-08-11T09:38:55.629142Z",
     "start_time": "2021-08-11T09:38:55.104621Z"
    }
   },
   "outputs": [
    {
     "ename": "ValueError",
     "evalue": "y should be a 1d array, got an array of shape (418, 9) instead.",
     "output_type": "error",
     "traceback": [
      "\u001b[1;31m---------------------------------------------------------------------------\u001b[0m",
      "\u001b[1;31mValueError\u001b[0m                                Traceback (most recent call last)",
      "\u001b[1;32m<ipython-input-285-b148ef516c87>\u001b[0m in \u001b[0;36m<module>\u001b[1;34m\u001b[0m\n\u001b[0;32m     11\u001b[0m \u001b[1;33m\u001b[0m\u001b[0m\n\u001b[0;32m     12\u001b[0m \u001b[1;31m## Logistic Regression\u001b[0m\u001b[1;33m\u001b[0m\u001b[1;33m\u001b[0m\u001b[1;33m\u001b[0m\u001b[0m\n\u001b[1;32m---> 13\u001b[1;33m \u001b[0mlr_score\u001b[0m\u001b[1;33m=\u001b[0m\u001b[0mbrier_score_loss\u001b[0m\u001b[1;33m(\u001b[0m\u001b[0mtest\u001b[0m\u001b[1;33m,\u001b[0m\u001b[0mlr_proba\u001b[0m\u001b[1;33m,\u001b[0m\u001b[0mpos_label\u001b[0m\u001b[1;33m=\u001b[0m\u001b[0mtarget\u001b[0m\u001b[1;33m.\u001b[0m\u001b[0mmax\u001b[0m\u001b[1;33m(\u001b[0m\u001b[1;33m)\u001b[0m\u001b[1;33m)\u001b[0m\u001b[1;33m\u001b[0m\u001b[1;33m\u001b[0m\u001b[0m\n\u001b[0m\u001b[0;32m     14\u001b[0m \u001b[0mfraction_of_positives\u001b[0m\u001b[1;33m,\u001b[0m\u001b[0mmean_predicted_value\u001b[0m\u001b[1;33m=\u001b[0m\u001b[0mcalibration_curve\u001b[0m\u001b[1;33m(\u001b[0m\u001b[0mlr_test\u001b[0m\u001b[1;33m,\u001b[0m\u001b[0mlr_pos\u001b[0m\u001b[1;33m,\u001b[0m\u001b[0mn_bins\u001b[0m\u001b[1;33m=\u001b[0m\u001b[1;36m10\u001b[0m\u001b[1;33m)\u001b[0m\u001b[1;33m\u001b[0m\u001b[1;33m\u001b[0m\u001b[0m\n\u001b[0;32m     15\u001b[0m \u001b[1;33m\u001b[0m\u001b[0m\n",
      "\u001b[1;32m~\\anaconda3\\lib\\site-packages\\sklearn\\utils\\validation.py\u001b[0m in \u001b[0;36minner_f\u001b[1;34m(*args, **kwargs)\u001b[0m\n\u001b[0;32m     61\u001b[0m             \u001b[0mextra_args\u001b[0m \u001b[1;33m=\u001b[0m \u001b[0mlen\u001b[0m\u001b[1;33m(\u001b[0m\u001b[0margs\u001b[0m\u001b[1;33m)\u001b[0m \u001b[1;33m-\u001b[0m \u001b[0mlen\u001b[0m\u001b[1;33m(\u001b[0m\u001b[0mall_args\u001b[0m\u001b[1;33m)\u001b[0m\u001b[1;33m\u001b[0m\u001b[1;33m\u001b[0m\u001b[0m\n\u001b[0;32m     62\u001b[0m             \u001b[1;32mif\u001b[0m \u001b[0mextra_args\u001b[0m \u001b[1;33m<=\u001b[0m \u001b[1;36m0\u001b[0m\u001b[1;33m:\u001b[0m\u001b[1;33m\u001b[0m\u001b[1;33m\u001b[0m\u001b[0m\n\u001b[1;32m---> 63\u001b[1;33m                 \u001b[1;32mreturn\u001b[0m \u001b[0mf\u001b[0m\u001b[1;33m(\u001b[0m\u001b[1;33m*\u001b[0m\u001b[0margs\u001b[0m\u001b[1;33m,\u001b[0m \u001b[1;33m**\u001b[0m\u001b[0mkwargs\u001b[0m\u001b[1;33m)\u001b[0m\u001b[1;33m\u001b[0m\u001b[1;33m\u001b[0m\u001b[0m\n\u001b[0m\u001b[0;32m     64\u001b[0m \u001b[1;33m\u001b[0m\u001b[0m\n\u001b[0;32m     65\u001b[0m             \u001b[1;31m# extra_args > 0\u001b[0m\u001b[1;33m\u001b[0m\u001b[1;33m\u001b[0m\u001b[1;33m\u001b[0m\u001b[0m\n",
      "\u001b[1;32m~\\anaconda3\\lib\\site-packages\\sklearn\\metrics\\_classification.py\u001b[0m in \u001b[0;36mbrier_score_loss\u001b[1;34m(y_true, y_prob, sample_weight, pos_label)\u001b[0m\n\u001b[0;32m   2475\u001b[0m             \u001b[1;33m<\u001b[0m\u001b[0mhttps\u001b[0m\u001b[1;33m:\u001b[0m\u001b[1;33m//\u001b[0m\u001b[0men\u001b[0m\u001b[1;33m.\u001b[0m\u001b[0mwikipedia\u001b[0m\u001b[1;33m.\u001b[0m\u001b[0morg\u001b[0m\u001b[1;33m/\u001b[0m\u001b[0mwiki\u001b[0m\u001b[1;33m/\u001b[0m\u001b[0mBrier_score\u001b[0m\u001b[1;33m>\u001b[0m\u001b[0;31m`\u001b[0m\u001b[0m_\u001b[0m\u001b[1;33m.\u001b[0m\u001b[1;33m\u001b[0m\u001b[1;33m\u001b[0m\u001b[0m\n\u001b[0;32m   2476\u001b[0m     \"\"\"\n\u001b[1;32m-> 2477\u001b[1;33m     \u001b[0my_true\u001b[0m \u001b[1;33m=\u001b[0m \u001b[0mcolumn_or_1d\u001b[0m\u001b[1;33m(\u001b[0m\u001b[0my_true\u001b[0m\u001b[1;33m)\u001b[0m\u001b[1;33m\u001b[0m\u001b[1;33m\u001b[0m\u001b[0m\n\u001b[0m\u001b[0;32m   2478\u001b[0m     \u001b[0my_prob\u001b[0m \u001b[1;33m=\u001b[0m \u001b[0mcolumn_or_1d\u001b[0m\u001b[1;33m(\u001b[0m\u001b[0my_prob\u001b[0m\u001b[1;33m)\u001b[0m\u001b[1;33m\u001b[0m\u001b[1;33m\u001b[0m\u001b[0m\n\u001b[0;32m   2479\u001b[0m     \u001b[0massert_all_finite\u001b[0m\u001b[1;33m(\u001b[0m\u001b[0my_true\u001b[0m\u001b[1;33m)\u001b[0m\u001b[1;33m\u001b[0m\u001b[1;33m\u001b[0m\u001b[0m\n",
      "\u001b[1;32m~\\anaconda3\\lib\\site-packages\\sklearn\\utils\\validation.py\u001b[0m in \u001b[0;36minner_f\u001b[1;34m(*args, **kwargs)\u001b[0m\n\u001b[0;32m     61\u001b[0m             \u001b[0mextra_args\u001b[0m \u001b[1;33m=\u001b[0m \u001b[0mlen\u001b[0m\u001b[1;33m(\u001b[0m\u001b[0margs\u001b[0m\u001b[1;33m)\u001b[0m \u001b[1;33m-\u001b[0m \u001b[0mlen\u001b[0m\u001b[1;33m(\u001b[0m\u001b[0mall_args\u001b[0m\u001b[1;33m)\u001b[0m\u001b[1;33m\u001b[0m\u001b[1;33m\u001b[0m\u001b[0m\n\u001b[0;32m     62\u001b[0m             \u001b[1;32mif\u001b[0m \u001b[0mextra_args\u001b[0m \u001b[1;33m<=\u001b[0m \u001b[1;36m0\u001b[0m\u001b[1;33m:\u001b[0m\u001b[1;33m\u001b[0m\u001b[1;33m\u001b[0m\u001b[0m\n\u001b[1;32m---> 63\u001b[1;33m                 \u001b[1;32mreturn\u001b[0m \u001b[0mf\u001b[0m\u001b[1;33m(\u001b[0m\u001b[1;33m*\u001b[0m\u001b[0margs\u001b[0m\u001b[1;33m,\u001b[0m \u001b[1;33m**\u001b[0m\u001b[0mkwargs\u001b[0m\u001b[1;33m)\u001b[0m\u001b[1;33m\u001b[0m\u001b[1;33m\u001b[0m\u001b[0m\n\u001b[0m\u001b[0;32m     64\u001b[0m \u001b[1;33m\u001b[0m\u001b[0m\n\u001b[0;32m     65\u001b[0m             \u001b[1;31m# extra_args > 0\u001b[0m\u001b[1;33m\u001b[0m\u001b[1;33m\u001b[0m\u001b[1;33m\u001b[0m\u001b[0m\n",
      "\u001b[1;32m~\\anaconda3\\lib\\site-packages\\sklearn\\utils\\validation.py\u001b[0m in \u001b[0;36mcolumn_or_1d\u001b[1;34m(y, warn)\u001b[0m\n\u001b[0;32m    862\u001b[0m         \u001b[1;32mreturn\u001b[0m \u001b[0mnp\u001b[0m\u001b[1;33m.\u001b[0m\u001b[0mravel\u001b[0m\u001b[1;33m(\u001b[0m\u001b[0my\u001b[0m\u001b[1;33m)\u001b[0m\u001b[1;33m\u001b[0m\u001b[1;33m\u001b[0m\u001b[0m\n\u001b[0;32m    863\u001b[0m \u001b[1;33m\u001b[0m\u001b[0m\n\u001b[1;32m--> 864\u001b[1;33m     raise ValueError(\n\u001b[0m\u001b[0;32m    865\u001b[0m         \u001b[1;34m\"y should be a 1d array, \"\u001b[0m\u001b[1;33m\u001b[0m\u001b[1;33m\u001b[0m\u001b[0m\n\u001b[0;32m    866\u001b[0m         \"got an array of shape {} instead.\".format(shape))\n",
      "\u001b[1;31mValueError\u001b[0m: y should be a 1d array, got an array of shape (418, 9) instead."
     ]
    },
    {
     "data": {
      "image/png": "[encoded data removed]",
      "text/plain": [
       "<Figure size 432x288 with 1 Axes>"
      ]
     },
     "metadata": {
      "needs_background": "light"
     },
     "output_type": "display_data"
    }
   ],
   "source": [
    "import matplotlib.pyplot as plt\n",
    "from sklearn.metrics import brier_score_loss\n",
    "\n",
    "# Calibration Plot: Lower 'brier-score'|line more similar to Perfectly-calibrated line is \"better calibrated model\" \n",
    "fig=plt.figure()\n",
    "ax=fig.add_subplot()\n",
    "ax.plot([0,1],[0,1],\"b--\",label=\"Perfectly calibrated\")\n",
    "ax.set_ylabel(\"Fraction of positives\")\n",
    "ax.set_xlabel(\"Mean predicted value\")\n",
    "ax.set_title('Calibration plot (reliability curve)')\n",
    "\n",
    "## Logistic Regression\n",
    "lr_score=brier_score_loss(true,lr_proba,pos_label=target.max())\n",
    "fraction_of_positives,mean_predicted_value=calibration_curve(true,lr_pos,n_bins=10)\n",
    "\n",
    "ax.plot(mean_predicted_value,fraction_of_positives,\"s-\",label=\"%s (%0.3f)\" % ('LR',lr_score))\n",
    "print(\"Brier score Logistic Regression: %0.2f\" % brier_score_loss(test,lr_pred))\n",
    "\n",
    "\n",
    "## SVC\n",
    "svc_score=brier_score_loss(test,svc_proba,pos_label=target.max())\n",
    "fraction_of_positives,mean_predicted_value=calibration_curve(test,svc_proba,n_bins=10)\n",
    "\n",
    "ax.plot(mean_predicted_value,fraction_of_positives,\"s-\",label=\"%s (%0.3f)\" % ('SVC',svc_score))\n",
    "print(\"Brier score LR: %0.2f\" % brier_score_loss(test,svc_pred))\n",
    "\n",
    "\n",
    "\n",
    "## Random Forrest\n",
    "rf_score=brier_score_loss(test,rf_proba,pos_label=target.max())\n",
    "fraction_of_positives,mean_predicted_value=calibration_curve(test,rf_proba,n_bins=10)\n",
    "\n",
    "ax.plot(mean_predicted_value,fraction_of_positives,\"s-\",label=\"%s (%0.3f)\" % ('Random Forest',rf_score))\n",
    "print(\"Brier score LR: %0.2f\" % brier_score_loss(test,rf_pred))\n",
    "\n",
    "ax.legend(loc=\"upper left\")\n",
    "plt.show()"
   ]
  },
  {
   "cell_type": "code",
   "execution_count": 286,
   "id": "711bcf68",
   "metadata": {
    "ExecuteTime": {
     "end_time": "2021-08-11T09:39:17.701374Z",
     "start_time": "2021-08-11T09:39:17.672659Z"
    }
   },
   "outputs": [
    {
     "data": {
      "text/plain": [
       "0    0\n",
       "1    1\n",
       "2    1\n",
       "3    1\n",
       "4    0\n",
       "Name: Survived, dtype: int64"
      ]
     },
     "execution_count": 286,
     "metadata": {},
     "output_type": "execute_result"
    }
   ],
   "source": [
    "target.head()"
   ]
  },
  {
   "cell_type": "markdown",
   "id": "713c9f42",
   "metadata": {},
   "source": [
    "## Model Calibration :"
   ]
  },
  {
   "cell_type": "code",
   "execution_count": null,
   "id": "abfb9bc8",
   "metadata": {},
   "outputs": [],
   "source": [
    "from sklearn.calibration import CalibratedClassifierCV\n",
    "calibrator=CalibratedClassifierCV(model,cv=3)\n",
    "calibrator.fit(X_train,y_train)\n",
    "calibrator.predict_proba(X_test)\n"
   ]
  },
  {
   "cell_type": "markdown",
   "id": "3beee922",
   "metadata": {},
   "source": [
    "## Model Evaluation : "
   ]
  },
  {
   "cell_type": "code",
   "execution_count": 275,
   "id": "d7eddb39",
   "metadata": {
    "ExecuteTime": {
     "end_time": "2021-08-11T09:19:58.142978Z",
     "start_time": "2021-08-11T09:19:21.681338Z"
    }
   },
   "outputs": [
    {
     "name": "stdout",
     "output_type": "stream",
     "text": [
      "train_Accuracy : 0.81\n",
      "test_Accuracy : 0.99\n",
      "train_ROC AUC : 0.87\n",
      "test_ROC AUC : 1.0\n"
     ]
    }
   ],
   "source": [
    "from sklearn.model_selection import cross_val_score\n",
    "accuracy_score=cross_val_score(model3,train,target,cv=20,scoring=\"accuracy\") \n",
    "print(\"train_Accuracy :\",round(accuracy_score.mean(),2))       \n",
    "accuracy_score=cross_val_score(model3,test,ypred,cv=20,scoring=\"accuracy\") \n",
    "print(\"test_Accuracy :\",round(accuracy_score.mean(),2))       \n",
    "\n",
    "\n",
    "rocauc_score=cross_val_score(model3,train,target,cv=20,scoring=\"roc_auc\") \n",
    "print(\"train_ROC AUC :\",round(rocauc_score.mean(),2))       \n",
    "rocauc_score=cross_val_score(model3,test,ypred,cv=20,scoring=\"roc_auc\") \n",
    "print(\"test_ROC AUC :\",round(rocauc_score.mean(),2))    \n",
    "\n"
   ]
  },
  {
   "cell_type": "markdown",
   "id": "a1166457",
   "metadata": {},
   "source": [
    "## Transform prediction for kaggle submision:\n"
   ]
  },
  {
   "cell_type": "code",
   "execution_count": 38,
   "id": "0a1a2222",
   "metadata": {
    "ExecuteTime": {
     "end_time": "2021-08-05T06:42:25.260964Z",
     "start_time": "2021-08-05T06:42:25.222347Z"
    }
   },
   "outputs": [],
   "source": [
    "submission=pd.DataFrame({\"Survived\":y_pred})\n",
    "submission.to_csv('submission_v0.csv',index=False)\n",
    "#\"PassengerId\":test[\"PassengerId\"],"
   ]
  },
  {
   "cell_type": "code",
   "execution_count": null,
   "id": "b78c2525",
   "metadata": {
    "ExecuteTime": {
     "end_time": "2021-08-04T16:13:40.291960Z",
     "start_time": "2021-08-04T16:13:40.235583Z"
    }
   },
   "outputs": [],
   "source": [
    "submission=pd.read_csv('submission_v0.csv')\n",
    "submission"
   ]
  },
  {
   "cell_type": "code",
   "execution_count": null,
   "id": "f517a143",
   "metadata": {},
   "outputs": [],
   "source": [
    "## Saving Model"
   ]
  },
  {
   "cell_type": "code",
   "execution_count": 133,
   "id": "f0346089",
   "metadata": {
    "ExecuteTime": {
     "end_time": "2021-08-05T08:32:22.109353Z",
     "start_time": "2021-08-05T08:32:22.056963Z"
    }
   },
   "outputs": [],
   "source": [
    "import pickle\n",
    "pickle_out=open(\"titanic_v0.pkl\",\"wb\")\n",
    "pickle.dump(model,pickle_out)\n",
    "pickle_out.close()"
   ]
  },
  {
   "cell_type": "code",
   "execution_count": null,
   "id": "a823b1e5",
   "metadata": {},
   "outputs": [],
   "source": []
  }
 ],
 "metadata": {
  "kernelspec": {
   "display_name": "Python 3",
   "language": "python",
   "name": "python3"
  },
  "language_info": {
   "codemirror_mode": {
    "name": "ipython",
    "version": 3
   },
   "file_extension": ".py",
   "mimetype": "text/x-python",
   "name": "python",
   "nbconvert_exporter": "python",
   "pygments_lexer": "ipython3",
   "version": "3.8.8"
  },
  "toc": {
   "base_numbering": 1,
   "nav_menu": {},
   "number_sections": true,
   "sideBar": true,
   "skip_h1_title": false,
   "title_cell": "Table of Contents",
   "title_sidebar": "Contents",
   "toc_cell": false,
   "toc_position": {},
   "toc_section_display": true,
   "toc_window_display": false
  },
  "varInspector": {
   "cols": {
    "lenName": 16,
    "lenType": 16,
    "lenVar": 40
   },
   "kernels_config": {
    "python": {
     "delete_cmd_postfix": "",
     "delete_cmd_prefix": "del ",
     "library": "var_list.py",
     "varRefreshCmd": "print(var_dic_list())"
    },
    "r": {
     "delete_cmd_postfix": ") ",
     "delete_cmd_prefix": "rm(",
     "library": "var_list.r",
     "varRefreshCmd": "cat(var_dic_list()) "
    }
   },
   "types_to_exclude": [
    "module",
    "function",
    "builtin_function_or_method",
    "instance",
    "_Feature"
   ],
   "window_display": false
  }
 },
 "nbformat": 4,
 "nbformat_minor": 5
}
